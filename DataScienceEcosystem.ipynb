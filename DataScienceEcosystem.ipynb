{
 "cells": [
  {
   "cell_type": "markdown",
   "id": "4e892e6f",
   "metadata": {},
   "source": [
    "# Data Science Tools and Ecosystem "
   ]
  },
  {
   "cell_type": "markdown",
   "id": "22b9d61b",
   "metadata": {},
   "source": [
    "In this notebook, Data Science Tools and Ecosystem are summarized."
   ]
  },
  {
   "cell_type": "markdown",
   "id": "e0c8f052",
   "metadata": {},
   "source": [
    "**Objectives:**\n",
    "* List popular languages for Data Science\n",
    "* Libraries used by Data Scientists\n",
    "* Data Science Tools\n",
    "* Examples of simple arithmetic expressions"
   ]
  },
  {
   "cell_type": "markdown",
   "id": "eff05de9",
   "metadata": {},
   "source": [
    "Some of the popular languages that Data Scientists use are:\n",
    "1. Python\n",
    "2. R\n",
    "3. SQL\n",
    "4. Julia\n"
   ]
  },
  {
   "cell_type": "markdown",
   "id": "2c1868f5",
   "metadata": {},
   "source": [
    "Some of the commonly used libraries used by Data Scientists include:\n",
    "1. Pandas\n",
    "2. NumPy\n",
    "3. SciPy\n",
    "4. Matplotlib\n",
    "5. Plotly\n",
    "6. Seaborn"
   ]
  },
  {
   "cell_type": "markdown",
   "id": "2a063e9c",
   "metadata": {},
   "source": [
    "# Data Science Tools\n",
    "\n",
    "| Data Science Tools | \n",
    "| :------- | \n",
    "| Jupyter Notebook |\n",
    "| RStudio |\n",
    "| VS Code |"
   ]
  },
  {
   "cell_type": "markdown",
   "id": "bbf14232",
   "metadata": {},
   "source": [
    "### Below are a few examples of evaluating arithmetic expressions in Python\n"
   ]
  },
  {
   "cell_type": "code",
   "execution_count": 2,
   "id": "2674697e",
   "metadata": {},
   "outputs": [
    {
     "name": "stdout",
     "output_type": "stream",
     "text": [
      "3 * 2 = 6\n",
      "5 + 3  = 8\n",
      "10 / 2 = 5.0\n"
     ]
    }
   ],
   "source": [
    "# Simple expressions\n",
    "result1 = 3 * 2  # Multiplication\n",
    "print(f\"3 * 2 = {result1}\")\n",
    "\n",
    "result2 = 5 + 3  # Suma\n",
    "print(f\"5 + 3  = {result2}\")\n",
    "\n",
    "result3 = 10 / 2  # division\n",
    "print(f\"10 / 2 = {result3}\")\n"
   ]
  },
  {
   "cell_type": "code",
   "execution_count": 3,
   "id": "7e79b047",
   "metadata": {},
   "outputs": [
    {
     "name": "stdout",
     "output_type": "stream",
     "text": [
      "(3*4)+5 = 17\n"
     ]
    }
   ],
   "source": [
    "result1 = (3*4)+5  # This a simple arithmetic expression to mutiply then add integers\n",
    "print(f\"(3*4)+5 = {result1}\")"
   ]
  },
  {
   "cell_type": "code",
   "execution_count": 4,
   "id": "63761aad",
   "metadata": {},
   "outputs": [
    {
     "data": {
      "text/plain": [
       "3.3333333333333335"
      ]
     },
     "execution_count": 4,
     "metadata": {},
     "output_type": "execute_result"
    }
   ],
   "source": [
    "minstohrs =200 /60 #  This will convert 200 minutes to hours by diving by 60\n",
    "minstohrs "
   ]
  },
  {
   "cell_type": "markdown",
   "id": "1cb0b395",
   "metadata": {},
   "source": [
    "## Author\n",
    "Rubi Ayon"
   ]
  },
  {
   "cell_type": "code",
   "execution_count": null,
   "id": "ad0bf28a",
   "metadata": {},
   "outputs": [],
   "source": []
  }
 ],
 "metadata": {
  "kernelspec": {
   "display_name": "Python 3",
   "language": "python",
   "name": "python3"
  },
  "language_info": {
   "codemirror_mode": {
    "name": "ipython",
    "version": 3
   },
   "file_extension": ".py",
   "mimetype": "text/x-python",
   "name": "python",
   "nbconvert_exporter": "python",
   "pygments_lexer": "ipython3",
   "version": "3.11.9"
  }
 },
 "nbformat": 4,
 "nbformat_minor": 5
}
